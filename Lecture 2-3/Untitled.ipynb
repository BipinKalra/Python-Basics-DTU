{
 "cells": [
  {
   "cell_type": "code",
   "execution_count": 4,
   "metadata": {},
   "outputs": [
    {
     "name": "stdout",
     "output_type": "stream",
     "text": [
      "2\n",
      "bipin\n",
      "male\n",
      "123\n",
      "jatin\n",
      "male\n",
      "123\n"
     ]
    }
   ],
   "source": [
    "n = int(input())\n",
    "\n",
    "a= []\n",
    "\n",
    "for i in range(n):\n",
    "    d = {\n",
    "        \"name\" : input(),\n",
    "        \"gender\" : input(),\n",
    "        \"age\" : input()\n",
    "    }\n",
    "    \n",
    "    a.append(d)"
   ]
  },
  {
   "cell_type": "code",
   "execution_count": 5,
   "metadata": {},
   "outputs": [
    {
     "name": "stdout",
     "output_type": "stream",
     "text": [
      "[{'name': 'bipin', 'gender': 'male', 'age': '123'}, {'name': 'jatin', 'gender': 'male', 'age': '123'}]\n"
     ]
    }
   ],
   "source": [
    "print(a)"
   ]
  },
  {
   "cell_type": "code",
   "execution_count": null,
   "metadata": {},
   "outputs": [],
   "source": []
  }
 ],
 "metadata": {
  "kernelspec": {
   "display_name": "Python 3",
   "language": "python",
   "name": "python3"
  },
  "language_info": {
   "codemirror_mode": {
    "name": "ipython",
    "version": 3
   },
   "file_extension": ".py",
   "mimetype": "text/x-python",
   "name": "python",
   "nbconvert_exporter": "python",
   "pygments_lexer": "ipython3",
   "version": "3.6.7"
  }
 },
 "nbformat": 4,
 "nbformat_minor": 2
}
